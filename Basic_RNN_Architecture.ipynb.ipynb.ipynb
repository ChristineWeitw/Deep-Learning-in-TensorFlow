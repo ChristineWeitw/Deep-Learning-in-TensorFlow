{
 "cells": [
  {
   "cell_type": "markdown",
   "metadata": {},
   "source": [
    "#### In this project, we aim to song popularity (target column). Other 12 numeric features include acousticness and danceability etc.\n",
    "\n",
    "resource : https://www.kaggle.com/datasets/yasserh/song-popularity-dataset\n",
    "We'll be taking on the role of an up-and-coming music group who are about to release a single that could be a hit. We would like to get an idea of how popular our song will be based on some of the features we can measure about it, namely those included in the aforementioned dataset."
   ]
  },
  {
   "cell_type": "code",
   "execution_count": 1,
   "metadata": {},
   "outputs": [],
   "source": [
    "import tensorflow as tf\n",
    "from tensorflow.keras import layers\n",
    "import pandas as pd\n",
    "import numpy as np"
   ]
  },
  {
   "cell_type": "code",
   "execution_count": 2,
   "metadata": {},
   "outputs": [],
   "source": [
    "X_train, y_train = pd.read_csv('song_data_xtrain.csv'), pd.read_csv('song_data_ytrain.csv')"
   ]
  },
  {
   "cell_type": "code",
   "execution_count": 3,
   "metadata": {},
   "outputs": [
    {
     "data": {
      "text/html": [
       "<div>\n",
       "<style scoped>\n",
       "    .dataframe tbody tr th:only-of-type {\n",
       "        vertical-align: middle;\n",
       "    }\n",
       "\n",
       "    .dataframe tbody tr th {\n",
       "        vertical-align: top;\n",
       "    }\n",
       "\n",
       "    .dataframe thead th {\n",
       "        text-align: right;\n",
       "    }\n",
       "</style>\n",
       "<table border=\"1\" class=\"dataframe\">\n",
       "  <thead>\n",
       "    <tr style=\"text-align: right;\">\n",
       "      <th></th>\n",
       "      <th>song_duration_ms</th>\n",
       "      <th>acousticness</th>\n",
       "      <th>danceability</th>\n",
       "      <th>energy</th>\n",
       "      <th>instrumentalness</th>\n",
       "      <th>key</th>\n",
       "      <th>liveness</th>\n",
       "      <th>loudness</th>\n",
       "      <th>audio_mode</th>\n",
       "      <th>speechiness</th>\n",
       "      <th>tempo</th>\n",
       "      <th>time_signature</th>\n",
       "      <th>audio_valence</th>\n",
       "    </tr>\n",
       "  </thead>\n",
       "  <tbody>\n",
       "    <tr>\n",
       "      <th>0</th>\n",
       "      <td>0.343646</td>\n",
       "      <td>-0.532610</td>\n",
       "      <td>0.030390</td>\n",
       "      <td>0.185681</td>\n",
       "      <td>-0.348566</td>\n",
       "      <td>1.035072</td>\n",
       "      <td>-0.259083</td>\n",
       "      <td>0.754719</td>\n",
       "      <td>-1.299135</td>\n",
       "      <td>-0.512009</td>\n",
       "      <td>-0.373235</td>\n",
       "      <td>0.135955</td>\n",
       "      <td>-0.675240</td>\n",
       "    </tr>\n",
       "    <tr>\n",
       "      <th>1</th>\n",
       "      <td>-0.220969</td>\n",
       "      <td>-0.895902</td>\n",
       "      <td>-1.479864</td>\n",
       "      <td>0.012798</td>\n",
       "      <td>-0.348252</td>\n",
       "      <td>1.035072</td>\n",
       "      <td>1.655417</td>\n",
       "      <td>-0.168131</td>\n",
       "      <td>-1.299135</td>\n",
       "      <td>-0.668973</td>\n",
       "      <td>0.204118</td>\n",
       "      <td>0.135955</td>\n",
       "      <td>1.537082</td>\n",
       "    </tr>\n",
       "    <tr>\n",
       "      <th>2</th>\n",
       "      <td>-0.428014</td>\n",
       "      <td>-0.198699</td>\n",
       "      <td>1.771021</td>\n",
       "      <td>-0.543232</td>\n",
       "      <td>-0.348566</td>\n",
       "      <td>1.035072</td>\n",
       "      <td>-0.548325</td>\n",
       "      <td>-0.140935</td>\n",
       "      <td>-1.299135</td>\n",
       "      <td>2.142106</td>\n",
       "      <td>-0.545805</td>\n",
       "      <td>0.135955</td>\n",
       "      <td>0.948220</td>\n",
       "    </tr>\n",
       "    <tr>\n",
       "      <th>3</th>\n",
       "      <td>-1.283457</td>\n",
       "      <td>2.079548</td>\n",
       "      <td>0.190374</td>\n",
       "      <td>-1.505772</td>\n",
       "      <td>0.412176</td>\n",
       "      <td>1.035072</td>\n",
       "      <td>-0.595154</td>\n",
       "      <td>-0.821632</td>\n",
       "      <td>0.769743</td>\n",
       "      <td>0.125359</td>\n",
       "      <td>-0.390270</td>\n",
       "      <td>0.135955</td>\n",
       "      <td>-0.744759</td>\n",
       "    </tr>\n",
       "    <tr>\n",
       "      <th>4</th>\n",
       "      <td>-0.312481</td>\n",
       "      <td>0.302167</td>\n",
       "      <td>1.291068</td>\n",
       "      <td>-0.146068</td>\n",
       "      <td>-0.348116</td>\n",
       "      <td>0.758103</td>\n",
       "      <td>-0.637852</td>\n",
       "      <td>0.762041</td>\n",
       "      <td>-1.299135</td>\n",
       "      <td>1.980386</td>\n",
       "      <td>-0.653254</td>\n",
       "      <td>0.135955</td>\n",
       "      <td>0.306197</td>\n",
       "    </tr>\n",
       "    <tr>\n",
       "      <th>...</th>\n",
       "      <td>...</td>\n",
       "      <td>...</td>\n",
       "      <td>...</td>\n",
       "      <td>...</td>\n",
       "      <td>...</td>\n",
       "      <td>...</td>\n",
       "      <td>...</td>\n",
       "      <td>...</td>\n",
       "      <td>...</td>\n",
       "      <td>...</td>\n",
       "      <td>...</td>\n",
       "      <td>...</td>\n",
       "      <td>...</td>\n",
       "    </tr>\n",
       "    <tr>\n",
       "      <th>12614</th>\n",
       "      <td>-0.619217</td>\n",
       "      <td>1.366509</td>\n",
       "      <td>0.497544</td>\n",
       "      <td>-1.431012</td>\n",
       "      <td>-0.344716</td>\n",
       "      <td>0.481134</td>\n",
       "      <td>-0.672974</td>\n",
       "      <td>-2.034491</td>\n",
       "      <td>0.769743</td>\n",
       "      <td>-0.492984</td>\n",
       "      <td>0.102497</td>\n",
       "      <td>0.135955</td>\n",
       "      <td>1.463474</td>\n",
       "    </tr>\n",
       "    <tr>\n",
       "      <th>12615</th>\n",
       "      <td>-1.012328</td>\n",
       "      <td>-0.736783</td>\n",
       "      <td>-0.526356</td>\n",
       "      <td>-0.337641</td>\n",
       "      <td>-0.348566</td>\n",
       "      <td>1.035072</td>\n",
       "      <td>-0.520778</td>\n",
       "      <td>0.228048</td>\n",
       "      <td>0.769743</td>\n",
       "      <td>-0.076316</td>\n",
       "      <td>2.128209</td>\n",
       "      <td>0.135955</td>\n",
       "      <td>-0.012770</td>\n",
       "    </tr>\n",
       "    <tr>\n",
       "      <th>12616</th>\n",
       "      <td>-0.359941</td>\n",
       "      <td>1.331727</td>\n",
       "      <td>-0.385570</td>\n",
       "      <td>-2.220668</td>\n",
       "      <td>-0.348566</td>\n",
       "      <td>0.481134</td>\n",
       "      <td>-0.417477</td>\n",
       "      <td>-2.683023</td>\n",
       "      <td>0.769743</td>\n",
       "      <td>-0.724148</td>\n",
       "      <td>-1.166387</td>\n",
       "      <td>-3.254583</td>\n",
       "      <td>-0.151807</td>\n",
       "    </tr>\n",
       "    <tr>\n",
       "      <th>12617</th>\n",
       "      <td>1.549095</td>\n",
       "      <td>-0.884886</td>\n",
       "      <td>1.476650</td>\n",
       "      <td>0.891232</td>\n",
       "      <td>-0.323466</td>\n",
       "      <td>-1.180678</td>\n",
       "      <td>0.829014</td>\n",
       "      <td>0.358016</td>\n",
       "      <td>0.769743</td>\n",
       "      <td>1.162271</td>\n",
       "      <td>-0.626054</td>\n",
       "      <td>0.135955</td>\n",
       "      <td>-1.145512</td>\n",
       "    </tr>\n",
       "    <tr>\n",
       "      <th>12618</th>\n",
       "      <td>0.388563</td>\n",
       "      <td>-0.884539</td>\n",
       "      <td>-0.155192</td>\n",
       "      <td>0.176336</td>\n",
       "      <td>-0.348557</td>\n",
       "      <td>-0.903709</td>\n",
       "      <td>-0.383044</td>\n",
       "      <td>0.935680</td>\n",
       "      <td>-1.299135</td>\n",
       "      <td>-0.737467</td>\n",
       "      <td>-0.443942</td>\n",
       "      <td>0.135955</td>\n",
       "      <td>-0.254040</td>\n",
       "    </tr>\n",
       "  </tbody>\n",
       "</table>\n",
       "<p>12619 rows × 13 columns</p>\n",
       "</div>"
      ],
      "text/plain": [
       "       song_duration_ms  acousticness  danceability    energy  \\\n",
       "0              0.343646     -0.532610      0.030390  0.185681   \n",
       "1             -0.220969     -0.895902     -1.479864  0.012798   \n",
       "2             -0.428014     -0.198699      1.771021 -0.543232   \n",
       "3             -1.283457      2.079548      0.190374 -1.505772   \n",
       "4             -0.312481      0.302167      1.291068 -0.146068   \n",
       "...                 ...           ...           ...       ...   \n",
       "12614         -0.619217      1.366509      0.497544 -1.431012   \n",
       "12615         -1.012328     -0.736783     -0.526356 -0.337641   \n",
       "12616         -0.359941      1.331727     -0.385570 -2.220668   \n",
       "12617          1.549095     -0.884886      1.476650  0.891232   \n",
       "12618          0.388563     -0.884539     -0.155192  0.176336   \n",
       "\n",
       "       instrumentalness       key  liveness  loudness  audio_mode  \\\n",
       "0             -0.348566  1.035072 -0.259083  0.754719   -1.299135   \n",
       "1             -0.348252  1.035072  1.655417 -0.168131   -1.299135   \n",
       "2             -0.348566  1.035072 -0.548325 -0.140935   -1.299135   \n",
       "3              0.412176  1.035072 -0.595154 -0.821632    0.769743   \n",
       "4             -0.348116  0.758103 -0.637852  0.762041   -1.299135   \n",
       "...                 ...       ...       ...       ...         ...   \n",
       "12614         -0.344716  0.481134 -0.672974 -2.034491    0.769743   \n",
       "12615         -0.348566  1.035072 -0.520778  0.228048    0.769743   \n",
       "12616         -0.348566  0.481134 -0.417477 -2.683023    0.769743   \n",
       "12617         -0.323466 -1.180678  0.829014  0.358016    0.769743   \n",
       "12618         -0.348557 -0.903709 -0.383044  0.935680   -1.299135   \n",
       "\n",
       "       speechiness     tempo  time_signature  audio_valence  \n",
       "0        -0.512009 -0.373235        0.135955      -0.675240  \n",
       "1        -0.668973  0.204118        0.135955       1.537082  \n",
       "2         2.142106 -0.545805        0.135955       0.948220  \n",
       "3         0.125359 -0.390270        0.135955      -0.744759  \n",
       "4         1.980386 -0.653254        0.135955       0.306197  \n",
       "...            ...       ...             ...            ...  \n",
       "12614    -0.492984  0.102497        0.135955       1.463474  \n",
       "12615    -0.076316  2.128209        0.135955      -0.012770  \n",
       "12616    -0.724148 -1.166387       -3.254583      -0.151807  \n",
       "12617     1.162271 -0.626054        0.135955      -1.145512  \n",
       "12618    -0.737467 -0.443942        0.135955      -0.254040  \n",
       "\n",
       "[12619 rows x 13 columns]"
      ]
     },
     "execution_count": 3,
     "metadata": {},
     "output_type": "execute_result"
    }
   ],
   "source": [
    "X_train"
   ]
  },
  {
   "cell_type": "markdown",
   "metadata": {},
   "source": [
    "# Define the initial RNN model"
   ]
  },
  {
   "cell_type": "code",
   "execution_count": 4,
   "metadata": {},
   "outputs": [
    {
     "name": "stdout",
     "output_type": "stream",
     "text": [
      "Model: \"sequential\"\n",
      "_________________________________________________________________\n",
      " Layer (type)                Output Shape              Param #   \n",
      "=================================================================\n",
      " simple_rnn (SimpleRNN)      (None, 3)                 51        \n",
      "                                                                 \n",
      " dense (Dense)               (None, 1)                 4         \n",
      "                                                                 \n",
      "=================================================================\n",
      "Total params: 55\n",
      "Trainable params: 55\n",
      "Non-trainable params: 0\n",
      "_________________________________________________________________\n"
     ]
    }
   ],
   "source": [
    "# Define RNN model\n",
    "model = tf.keras.Sequential()   # Instantiate model\n",
    "model.add(layers.SimpleRNN(3, input_shape=(1, 13), activation='relu'))   # Hidden SimpleRNN laoyer\n",
    "model.add(layers.Dense(1))   # Output layer - to predict 1 numeric value\n",
    "\n",
    "model.compile(optimizer='adam', loss='mean_squared_error')   # compile the model\n",
    "model.summary()"
   ]
  },
  {
   "cell_type": "markdown",
   "metadata": {},
   "source": [
    "# Preprocessing - X_train & FIT"
   ]
  },
  {
   "cell_type": "markdown",
   "metadata": {},
   "source": [
    "##### The required preprocessing steps that are specific to neural networks are:\n",
    "\n",
    "* Converting the data to a NumPy array.  (turn every row into a list and put into a list/array --> A list of lists)\n",
    "* Reshaping the data to match what the recurrent model expects.   (become 3 Dimensional)\n",
    "    ** (num_samples, num_timesteps, num_features)  **"
   ]
  },
  {
   "cell_type": "code",
   "execution_count": 5,
   "metadata": {},
   "outputs": [
    {
     "name": "stdout",
     "output_type": "stream",
     "text": [
      "395/395 [==============================] - 1s 1ms/step - loss: 3070.8767\n"
     ]
    },
    {
     "data": {
      "text/plain": [
       "<keras.callbacks.History at 0x7fe80421f0d0>"
      ]
     },
     "execution_count": 5,
     "metadata": {},
     "output_type": "execute_result"
    }
   ],
   "source": [
    "# pre-processing the X_train\n",
    "    ## convert into Numpy array\n",
    "X_train_array = np.array(X_train)\n",
    "    ## Reshape\n",
    "X_train_reshaped = np.reshape(X_train_array, (X_train_array.shape[0], 1, X_train_array.shape[1]))\n",
    "\n",
    "\n",
    "# Fit \n",
    "model.fit(X_train_reshaped, y_train)"
   ]
  },
  {
   "cell_type": "markdown",
   "metadata": {},
   "source": [
    "# Preprocessing - X_test & PREDICT"
   ]
  },
  {
   "cell_type": "code",
   "execution_count": 14,
   "metadata": {},
   "outputs": [],
   "source": [
    "X_test, y_test = pd.read_csv('song_data_xtest.csv'), pd.read_csv('song_data_ytest.csv')"
   ]
  },
  {
   "cell_type": "code",
   "execution_count": 15,
   "metadata": {},
   "outputs": [
    {
     "name": "stdout",
     "output_type": "stream",
     "text": [
      "195/195 [==============================] - 0s 875us/step\n"
     ]
    }
   ],
   "source": [
    "# pre-processing the X_test\n",
    "    ## convert into Numpy array\n",
    "X_test_array = np.array(X_test)\n",
    "    ## Reshape\n",
    "X_test_reshaped = np.reshape(X_test_array, (X_test_array.shape[0], 1, X_test_array.shape[1]))\n",
    "\n",
    "# predict\n",
    "predictions = model.predict(X_test_reshaped)\n"
   ]
  },
  {
   "cell_type": "markdown",
   "metadata": {},
   "source": [
    "# Evaluation"
   ]
  },
  {
   "cell_type": "code",
   "execution_count": 18,
   "metadata": {},
   "outputs": [
    {
     "name": "stdout",
     "output_type": "stream",
     "text": [
      "MSE on test set: 2889.4170744634107\n"
     ]
    }
   ],
   "source": [
    "from sklearn.metrics import mean_squared_error\n",
    "\n",
    "print(f\"MSE on test set: {mean_squared_error(y_test, predictions)}\")"
   ]
  },
  {
   "cell_type": "code",
   "execution_count": 24,
   "metadata": {},
   "outputs": [
    {
     "name": "stdout",
     "output_type": "stream",
     "text": [
      "song_popularity    52.95\n",
      "dtype: float64\n"
     ]
    }
   ],
   "source": [
    "# average of target_column: song_popularity\n",
    "average = np.round(np.mean(y_test), 2)\n",
    "print(average)"
   ]
  },
  {
   "cell_type": "markdown",
   "metadata": {},
   "source": [
    "# Optimize the model\n",
    "* adding more hidden layers\n",
    "* Nodes per Layer\n",
    "* Loss Function and Optimizer"
   ]
  },
  {
   "cell_type": "code",
   "execution_count": 35,
   "metadata": {},
   "outputs": [],
   "source": [
    "mse_lst = []"
   ]
  },
  {
   "cell_type": "code",
   "execution_count": 60,
   "metadata": {},
   "outputs": [
    {
     "name": "stdout",
     "output_type": "stream",
     "text": [
      "Model: \"sequential_19\"\n",
      "_________________________________________________________________\n",
      " Layer (type)                Output Shape              Param #   \n",
      "=================================================================\n",
      " simple_rnn_19 (SimpleRNN)   (None, 3)                 51        \n",
      "                                                                 \n",
      " dense_86 (Dense)            (None, 3)                 12        \n",
      "                                                                 \n",
      " dense_87 (Dense)            (None, 3)                 12        \n",
      "                                                                 \n",
      " dense_88 (Dense)            (None, 3)                 12        \n",
      "                                                                 \n",
      " dense_89 (Dense)            (None, 3)                 12        \n",
      "                                                                 \n",
      " dense_90 (Dense)            (None, 3)                 12        \n",
      "                                                                 \n",
      " dense_91 (Dense)            (None, 3)                 12        \n",
      "                                                                 \n",
      " dense_92 (Dense)            (None, 3)                 12        \n",
      "                                                                 \n",
      " dense_93 (Dense)            (None, 1)                 4         \n",
      "                                                                 \n",
      "=================================================================\n",
      "Total params: 139\n",
      "Trainable params: 139\n",
      "Non-trainable params: 0\n",
      "_________________________________________________________________\n",
      "395/395 [==============================] - 2s 2ms/step - loss: 3266.4438\n",
      "195/195 [==============================] - 0s 1ms/step\n",
      "MSE on test set: 3247.8087661729523\n"
     ]
    }
   ],
   "source": [
    "# Adding hidden layers\n",
    "\n",
    "model = tf.keras.Sequential()\n",
    "model.add(tf.keras.layers.SimpleRNN(3, input_shape=(1, X_train.shape[1]), activation='relu'))\n",
    "model.add(tf.keras.layers.Dense(3, activation='relu'))\n",
    "model.add(tf.keras.layers.Dense(3, activation='relu'))\n",
    "model.add(tf.keras.layers.Dense(3, activation='relu'))\n",
    "model.add(tf.keras.layers.Dense(3, activation='relu'))\n",
    "model.add(tf.keras.layers.Dense(3, activation='relu'))\n",
    "model.add(tf.keras.layers.Dense(3, activation='relu'))\n",
    "model.add(tf.keras.layers.Dense(3, activation='relu'))\n",
    "# model.add(tf.keras.layers.Dense(3, activation='relu'))\n",
    "# model.add(tf.keras.layers.Dense(3, activation='relu'))\n",
    "# model.add(tf.keras.layers.Dense(3, activation='relu'))\n",
    "model.add(tf.keras.layers.Dense(1))\n",
    "model.compile(optimizer='adam', loss='mean_squared_error')\n",
    "model.summary()\n",
    "\n",
    "# Preparing the training data\n",
    "X_train_array = np.array(X_train)\n",
    "X_train_reshaped = np.reshape(X_train_array, (X_train_array.shape[0], 1, X_train_array.shape[1]))\n",
    "\n",
    "# Fitting the model\n",
    "model.fit(X_train_reshaped, y_train)\n",
    "\n",
    "# Preparing the test data\n",
    "X_test_array = np.array(X_test)\n",
    "X_test_reshaped = np.reshape(X_test_array, (X_test_array.shape[0], 1, X_test_array.shape[1]))\n",
    "\n",
    "# Testing the model\n",
    "y_pred = model.predict(X_test_reshaped)\n",
    "\n",
    "# Printing results\n",
    "mse = mean_squared_error(y_test, y_pred)\n",
    "# mse_lst.append(mse)\n",
    "print(f\"MSE on test set: {mse}\")"
   ]
  },
  {
   "cell_type": "code",
   "execution_count": 57,
   "metadata": {},
   "outputs": [
    {
     "data": {
      "text/plain": [
       "[3144.1563246087053,\n",
       " 2394.6905218600946,\n",
       " 2216.8790483857233,\n",
       " 1727.6221543231945,\n",
       " 1113.3122491838412,\n",
       " 790.2914480402351,\n",
       " 3248.020656596565,\n",
       " 697.7160178524921,\n",
       " 3247.768700875534,\n",
       " 3248.0381087853975,\n",
       " 3247.8980605181214]"
      ]
     },
     "execution_count": 57,
     "metadata": {},
     "output_type": "execute_result"
    }
   ],
   "source": [
    "mse_lst"
   ]
  },
  {
   "cell_type": "code",
   "execution_count": 91,
   "metadata": {},
   "outputs": [],
   "source": [
    "mse_dict = {}"
   ]
  },
  {
   "cell_type": "code",
   "execution_count": 97,
   "metadata": {},
   "outputs": [
    {
     "name": "stdout",
     "output_type": "stream",
     "text": [
      "Model: \"sequential_41\"\n",
      "_________________________________________________________________\n",
      " Layer (type)                Output Shape              Param #   \n",
      "=================================================================\n",
      " simple_rnn_41 (SimpleRNN)   (None, 3)                 51        \n",
      "                                                                 \n",
      " dense_237 (Dense)           (None, 1000)              4000      \n",
      "                                                                 \n",
      " dense_238 (Dense)           (None, 1000)              1001000   \n",
      "                                                                 \n",
      " dense_239 (Dense)           (None, 1000)              1001000   \n",
      "                                                                 \n",
      " dense_240 (Dense)           (None, 1000)              1001000   \n",
      "                                                                 \n",
      " dense_241 (Dense)           (None, 1000)              1001000   \n",
      "                                                                 \n",
      " dense_242 (Dense)           (None, 1)                 1001      \n",
      "                                                                 \n",
      "=================================================================\n",
      "Total params: 4,009,052\n",
      "Trainable params: 4,009,052\n",
      "Non-trainable params: 0\n",
      "_________________________________________________________________\n",
      "395/395 [==============================] - 22s 53ms/step - loss: 564.0703\n",
      "195/195 [==============================] - 1s 4ms/step\n",
      "MSE on test set: 534.2162588325954\n"
     ]
    }
   ],
   "source": [
    "# Adding nodes in fixed 5 hidden layers \n",
    "\n",
    "model = tf.keras.Sequential()\n",
    "model.add(tf.keras.layers.SimpleRNN(3, input_shape=(1, X_train.shape[1]), activation='relu'))\n",
    "model.add(tf.keras.layers.Dense(1000, activation='relu'))\n",
    "model.add(tf.keras.layers.Dense(1000, activation='relu'))\n",
    "model.add(tf.keras.layers.Dense(1000, activation='relu'))\n",
    "model.add(tf.keras.layers.Dense(1000, activation='relu'))\n",
    "model.add(tf.keras.layers.Dense(1000, activation='relu'))\n",
    "\n",
    "model.add(tf.keras.layers.Dense(1))\n",
    "model.compile(optimizer='adam', loss='mean_squared_error')\n",
    "model.summary()\n",
    "\n",
    "# Preparing the training data\n",
    "X_train_array = np.array(X_train)\n",
    "X_train_reshaped = np.reshape(X_train_array, (X_train_array.shape[0], 1, X_train_array.shape[1]))\n",
    "\n",
    "# Fitting the model\n",
    "model.fit(X_train_reshaped, y_train)\n",
    "\n",
    "# Preparing the test data\n",
    "X_test_array = np.array(X_test)\n",
    "X_test_reshaped = np.reshape(X_test_array, (X_test_array.shape[0], 1, X_test_array.shape[1]))\n",
    "\n",
    "# Testing the model\n",
    "y_pred = model.predict(X_test_reshaped)\n",
    "\n",
    "# Printing results\n",
    "mse = mean_squared_error(y_test, y_pred)\n",
    "# Record the result in mse_dict : number of nodes in 5 hidden layers, result mse\n",
    "num_nodes = 1000\n",
    "mse_dict[num_nodes] = mse\n",
    "print(f\"MSE on test set: {mse}\")"
   ]
  },
  {
   "cell_type": "code",
   "execution_count": 98,
   "metadata": {},
   "outputs": [
    {
     "data": {
      "text/plain": [
       "{10: 625.1831218665768,\n",
       " 500: 482.7768692787711,\n",
       " 100: 482.31579901428455,\n",
       " 1000: 534.2162588325954}"
      ]
     },
     "execution_count": 98,
     "metadata": {},
     "output_type": "execute_result"
    }
   ],
   "source": [
    "mse_dict"
   ]
  },
  {
   "cell_type": "markdown",
   "metadata": {},
   "source": [
    "#### Optimization - Optimizer & Loss funcs"
   ]
  },
  {
   "cell_type": "code",
   "execution_count": 103,
   "metadata": {},
   "outputs": [],
   "source": [
    "optimizer_dict = {}"
   ]
  },
  {
   "cell_type": "code",
   "execution_count": 111,
   "metadata": {},
   "outputs": [
    {
     "name": "stdout",
     "output_type": "stream",
     "text": [
      "Model: \"sequential_51\"\n",
      "_________________________________________________________________\n",
      " Layer (type)                Output Shape              Param #   \n",
      "=================================================================\n",
      " simple_rnn_51 (SimpleRNN)   (None, 3)                 51        \n",
      "                                                                 \n",
      " dense_261 (Dense)           (None, 3)                 12        \n",
      "                                                                 \n",
      " dense_262 (Dense)           (None, 1)                 4         \n",
      "                                                                 \n",
      "=================================================================\n",
      "Total params: 67\n",
      "Trainable params: 67\n",
      "Non-trainable params: 0\n",
      "_________________________________________________________________\n",
      "395/395 [==============================] - 1s 1ms/step - loss: -789.9776\n",
      "195/195 [==============================] - 0s 911us/step\n",
      "MSE on test set: 2777.5076421654258\n"
     ]
    }
   ],
   "source": [
    "# Loss Function and Optimizer\n",
    "model = tf.keras.Sequential()\n",
    "model.add(tf.keras.layers.SimpleRNN(3, input_shape=(1, X_train.shape[1]), activation='relu'))\n",
    "model.add(tf.keras.layers.Dense(3, activation='relu'))\n",
    "model.add(tf.keras.layers.Dense(1))\n",
    "model.compile(optimizer='sgd', loss='binary_crossentropy')\n",
    "model.summary()\n",
    "\n",
    "# Preparing the training data\n",
    "X_train_array = np.array(X_train)\n",
    "X_train_reshaped = np.reshape(X_train_array, (X_train_array.shape[0], 1, X_train_array.shape[1]))\n",
    "\n",
    "# Fitting the model\n",
    "model.fit(X_train_reshaped, y_train)\n",
    "\n",
    "# Preparing the test data\n",
    "X_test_array = np.array(X_test)\n",
    "X_test_reshaped = np.reshape(X_test_array, (X_test_array.shape[0], 1, X_test_array.shape[1]))\n",
    "\n",
    "# Testing the model\n",
    "y_pred = model.predict(X_test_reshaped)\n",
    "\n",
    "# Printing results\n",
    "print(f\"MSE on test set: {mean_squared_error(y_test, y_pred)}\")\n",
    "\n",
    "# Record the results\n",
    "optimizer = 'sgd-binary_crossentropy'\n",
    "mse = mean_squared_error(y_test, y_pred)\n",
    "optimizer_dict[optimizer] = mse"
   ]
  },
  {
   "cell_type": "code",
   "execution_count": 112,
   "metadata": {},
   "outputs": [
    {
     "data": {
      "text/plain": [
       "{'adam-mean_squared_error': 2699.7559032858767,\n",
       " 'adam-mean_absolute_error': 2470.855443842236,\n",
       " 'RMSprop-mean_squared_error': 3061.8675191720813,\n",
       " 'RMSprop-mean_absolute_error': 3246.997937258182,\n",
       " 'sgd-mean_squared_error': 485.7910186588187,\n",
       " 'sgd-mean_absolute_error': 483.0586352661121,\n",
       " 'sgd-binary_crossentropy': 2777.5076421654258}"
      ]
     },
     "execution_count": 112,
     "metadata": {},
     "output_type": "execute_result"
    }
   ],
   "source": [
    "optimizer_dict"
   ]
  },
  {
   "cell_type": "code",
   "execution_count": null,
   "metadata": {},
   "outputs": [],
   "source": []
  }
 ],
 "metadata": {
  "kernelspec": {
   "display_name": "Python 3 (ipykernel)",
   "language": "python",
   "name": "python3"
  },
  "language_info": {
   "codemirror_mode": {
    "name": "ipython",
    "version": 3
   },
   "file_extension": ".py",
   "mimetype": "text/x-python",
   "name": "python",
   "nbconvert_exporter": "python",
   "pygments_lexer": "ipython3",
   "version": "3.10.6"
  }
 },
 "nbformat": 4,
 "nbformat_minor": 4
}
