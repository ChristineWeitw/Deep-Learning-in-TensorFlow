{
 "cells": [
  {
   "cell_type": "code",
   "execution_count": 1,
   "metadata": {},
   "outputs": [],
   "source": [
    "import tensorflow as tf\n",
    "from tensorflow.keras import layers\n",
    "import pandas as pd\n",
    "import numpy as np"
   ]
  },
  {
   "cell_type": "code",
   "execution_count": 2,
   "metadata": {},
   "outputs": [],
   "source": [
    "X_train_prep = np.loadtxt(\"imdb_X_train_prep.csv\", delimiter=\",\")\n",
    "X_test_prep = np.loadtxt(\"imdb_X_test_prep.csv\", delimiter=\",\")\n",
    "y_train_prep = np.loadtxt(\"imdb_y_train_prep.csv\", delimiter=\",\")\n",
    "y_test_prep = np.loadtxt(\"imdb_y_test_prep.csv\", delimiter=\",\")"
   ]
  },
  {
   "cell_type": "markdown",
   "metadata": {},
   "source": [
    "# Load the data"
   ]
  },
  {
   "cell_type": "code",
   "execution_count": 9,
   "metadata": {},
   "outputs": [
    {
     "data": {
      "text/plain": [
       "(25000, 200)"
      ]
     },
     "execution_count": 9,
     "metadata": {},
     "output_type": "execute_result"
    }
   ],
   "source": [
    "X_train_prep.shape"
   ]
  },
  {
   "cell_type": "code",
   "execution_count": 3,
   "metadata": {},
   "outputs": [],
   "source": [
    "results_dict = {}"
   ]
  },
  {
   "cell_type": "markdown",
   "metadata": {},
   "source": [
    "# Parameters tuning experiments"
   ]
  },
  {
   "cell_type": "code",
   "execution_count": 22,
   "metadata": {},
   "outputs": [
    {
     "name": "stdout",
     "output_type": "stream",
     "text": [
      "Model: \"sequential_19\"\n",
      "_________________________________________________________________\n",
      " Layer (type)                Output Shape              Param #   \n",
      "=================================================================\n",
      " embedding_19 (Embedding)    (None, 200, 16)           400000    \n",
      "                                                                 \n",
      " conv1d_19 (Conv1D)          (None, 198, 32)           1568      \n",
      "                                                                 \n",
      " max_pooling1d_19 (MaxPoolin  (None, 99, 32)           0         \n",
      " g1D)                                                            \n",
      "                                                                 \n",
      " lstm_18 (LSTM)              (None, 5)                 760       \n",
      "                                                                 \n",
      " dense_36 (Dense)            (None, 5)                 30        \n",
      "                                                                 \n",
      " dense_37 (Dense)            (None, 1)                 6         \n",
      "                                                                 \n",
      "=================================================================\n",
      "Total params: 402,364\n",
      "Trainable params: 402,364\n",
      "Non-trainable params: 0\n",
      "_________________________________________________________________\n",
      "782/782 [==============================] - 26s 31ms/step - loss: 0.5109\n",
      "782/782 [==============================] - 5s 6ms/step\n",
      "Accuracy Score on the test set: 0.86128\n",
      "Model: \"sequential_20\"\n",
      "_________________________________________________________________\n",
      " Layer (type)                Output Shape              Param #   \n",
      "=================================================================\n",
      " embedding_20 (Embedding)    (None, 200, 16)           400000    \n",
      "                                                                 \n",
      " conv1d_20 (Conv1D)          (None, 198, 32)           1568      \n",
      "                                                                 \n",
      " max_pooling1d_20 (MaxPoolin  (None, 99, 32)           0         \n",
      " g1D)                                                            \n",
      "                                                                 \n",
      " lstm_19 (LSTM)              (None, 5)                 760       \n",
      "                                                                 \n",
      " dense_38 (Dense)            (None, 5)                 30        \n",
      "                                                                 \n",
      " dense_39 (Dense)            (None, 1)                 6         \n",
      "                                                                 \n",
      "=================================================================\n",
      "Total params: 402,364\n",
      "Trainable params: 402,364\n",
      "Non-trainable params: 0\n",
      "_________________________________________________________________\n",
      "782/782 [==============================] - 25s 30ms/step - loss: 0.6929\n",
      "782/782 [==============================] - 5s 6ms/step\n",
      "Accuracy Score on the test set: 0.50004\n"
     ]
    }
   ],
   "source": [
    "# Initiate the model\n",
    "\n",
    "num_hidden_layers = 1\n",
    "nodes_hidden_layer = 5\n",
    "embedding_dimension = 16\n",
    "# num_filters_conv = [2**2, 2**5, 2**7, 2**8]\n",
    "# kernel_conv = [1, 3, 5, 7, 9]\n",
    "optimizers = ['RMSprop', 'sgd']\n",
    "# embedding_dimension = 16\n",
    "num_filters_conv = 32\n",
    "kernel_conv = 3\n",
    "# optimizer = 'adam'\n",
    "\n",
    "for optimizer in optimizers:\n",
    "    \n",
    "    model = tf.keras.Sequential()\n",
    "    model.add(layers.Embedding(input_dim=25000, output_dim=embedding_dimension,input_length=X_train_prep.shape[1]))\n",
    "    model.add(layers.Conv1D(filters=num_filters_conv, kernel_size=kernel_conv, activation='relu'))\n",
    "    model.add(layers.MaxPooling1D())\n",
    "    model.add(layers.LSTM(nodes_hidden_layer))\n",
    "    model.add(layers.Dense(nodes_hidden_layer))\n",
    "    model.add(layers.Dense(1, activation='sigmoid'))\n",
    "\n",
    "    model.compile(optimizer=optimizer, loss='binary_crossentropy')\n",
    "    model.summary()\n",
    "    # Fit the model & Predict\n",
    "    model.fit(X_train_prep, y_train_prep)\n",
    "    y_pred = model.predict(X_test_prep)\n",
    "\n",
    "    from sklearn.metrics import accuracy_score \n",
    "    accuracy = accuracy_score(y_test_prep, np.round(y_pred))\n",
    "    print(f\"Accuracy Score on the test set: {accuracy}\")\n",
    "    results_dict[f'{num_hidden_layers}_hiddenLayer_with_{nodes_hidden_layer}_nodes-{embedding_dimension}_output_dim-{num_filters_conv}filters-{kernel_conv}kernels-{optimizer}'] = accuracy"
   ]
  },
  {
   "cell_type": "code",
   "execution_count": 23,
   "metadata": {},
   "outputs": [
    {
     "data": {
      "text/plain": [
       "{'1_hiddenLayer_with_5_nodes-16_output_dim-1filters-1kernels-adam': 0.80032,\n",
       " '2_hiddenLayer_with_5_nodes-16_output_dim-1filters-1kernels-adam': 0.785,\n",
       " '2_hiddenLayer_with_16_nodes-16_output_dim-1filters-1kernels-adam': 0.77244,\n",
       " '2_hiddenLayer_with_32_nodes-16_output_dim-1filters-1kernels-adam': 0.77904,\n",
       " '1_hiddenLayer_with_16_nodes-16_output_dim-1filters-1kernels-adam': 0.78016,\n",
       " '1_hiddenLayer_with_32_nodes-16_output_dim-1filters-1kernels-adam': 0.78556,\n",
       " '1_hiddenLayer_with_5_nodes-32_output_dim-1filters-1kernels-adam': 0.76288,\n",
       " '1_hiddenLayer_with_5_nodes-64_output_dim-1filters-1kernels-adam': 0.74248,\n",
       " '1_hiddenLayer_with_5_nodes-16_output_dim-4filters-1kernels-adam': 0.85924,\n",
       " '1_hiddenLayer_with_5_nodes-16_output_dim-32filters-1kernels-adam': 0.8466,\n",
       " '1_hiddenLayer_with_5_nodes-16_output_dim-128filters-1kernels-adam': 0.82752,\n",
       " '1_hiddenLayer_with_5_nodes-16_output_dim-256filters-1kernels-adam': 0.85992,\n",
       " '1_hiddenLayer_with_5_nodes-16_output_dim-32filters-3kernels-adam': 0.8672,\n",
       " '1_hiddenLayer_with_5_nodes-16_output_dim-32filters-5kernels-adam': 0.848,\n",
       " '1_hiddenLayer_with_5_nodes-16_output_dim-32filters-7kernels-adam': 0.86268,\n",
       " '1_hiddenLayer_with_5_nodes-16_output_dim-32filters-9kernels-adam': 0.86076,\n",
       " '1_hiddenLayer_with_5_nodes-16_output_dim-32filters-3kernels-RMSprop': 0.86128,\n",
       " '1_hiddenLayer_with_5_nodes-16_output_dim-32filters-3kernels-sgd': 0.50004}"
      ]
     },
     "execution_count": 23,
     "metadata": {},
     "output_type": "execute_result"
    }
   ],
   "source": [
    "results_dict"
   ]
  },
  {
   "cell_type": "markdown",
   "metadata": {},
   "source": [
    "# add Bidirectional wrapper layer"
   ]
  },
  {
   "cell_type": "code",
   "execution_count": 24,
   "metadata": {},
   "outputs": [
    {
     "name": "stdout",
     "output_type": "stream",
     "text": [
      "Model: \"sequential_21\"\n",
      "_________________________________________________________________\n",
      " Layer (type)                Output Shape              Param #   \n",
      "=================================================================\n",
      " embedding_21 (Embedding)    (None, 200, 32)           800000    \n",
      "                                                                 \n",
      " conv1d_21 (Conv1D)          (None, 194, 128)          28800     \n",
      "                                                                 \n",
      " max_pooling1d_21 (MaxPoolin  (None, 97, 128)          0         \n",
      " g1D)                                                            \n",
      "                                                                 \n",
      " lstm_20 (LSTM)              (None, 64)                49408     \n",
      "                                                                 \n",
      " dense_40 (Dense)            (None, 10)                650       \n",
      "                                                                 \n",
      " dense_41 (Dense)            (None, 10)                110       \n",
      "                                                                 \n",
      " dense_42 (Dense)            (None, 1)                 11        \n",
      "                                                                 \n",
      "=================================================================\n",
      "Total params: 878,979\n",
      "Trainable params: 878,979\n",
      "Non-trainable params: 0\n",
      "_________________________________________________________________\n",
      "782/782 [==============================] - 54s 67ms/step - loss: 0.4081\n",
      "782/782 [==============================] - 13s 17ms/step\n",
      "Accuracy Score on the test set: 0.87128\n"
     ]
    }
   ],
   "source": [
    "# Before adding the bidirectional layer\n",
    "model = tf.keras.Sequential()\n",
    "model.add(tf.keras.layers.Embedding(input_dim=25000, output_dim=32, input_length=X_train_prep.shape[1]))\n",
    "model.add(tf.keras.layers.Conv1D(filters=128, kernel_size=7, activation='relu'))\n",
    "model.add(tf.keras.layers.MaxPooling1D())\n",
    "model.add(tf.keras.layers.LSTM(64))\n",
    "model.add(tf.keras.layers.Dense(10, activation='relu'))\n",
    "model.add(tf.keras.layers.Dense(10, activation='relu'))\n",
    "model.add(tf.keras.layers.Dense(1, activation='sigmoid'))\n",
    "model.compile(optimizer='adam', loss='binary_crossentropy')\n",
    "model.summary()\n",
    "\n",
    "model.fit(X_train_prep, y_train_prep)\n",
    "\n",
    "y_pred = model.predict(X_test_prep)\n",
    "\n",
    "print(f\"Accuracy Score on the test set: {accuracy_score(y_test_prep, np.round(y_pred))}\")"
   ]
  },
  {
   "cell_type": "code",
   "execution_count": 25,
   "metadata": {},
   "outputs": [
    {
     "name": "stdout",
     "output_type": "stream",
     "text": [
      "Model: \"sequential_22\"\n",
      "_________________________________________________________________\n",
      " Layer (type)                Output Shape              Param #   \n",
      "=================================================================\n",
      " embedding_22 (Embedding)    (None, 200, 32)           800000    \n",
      "                                                                 \n",
      " conv1d_22 (Conv1D)          (None, 194, 128)          28800     \n",
      "                                                                 \n",
      " max_pooling1d_22 (MaxPoolin  (None, 97, 128)          0         \n",
      " g1D)                                                            \n",
      "                                                                 \n",
      " bidirectional (Bidirectiona  (None, 128)              98816     \n",
      " l)                                                              \n",
      "                                                                 \n",
      " dense_43 (Dense)            (None, 10)                1290      \n",
      "                                                                 \n",
      " dense_44 (Dense)            (None, 10)                110       \n",
      "                                                                 \n",
      " dense_45 (Dense)            (None, 1)                 11        \n",
      "                                                                 \n",
      "=================================================================\n",
      "Total params: 929,027\n",
      "Trainable params: 929,027\n",
      "Non-trainable params: 0\n",
      "_________________________________________________________________\n",
      "782/782 [==============================] - 104s 129ms/step - loss: 0.4377\n",
      "782/782 [==============================] - 23s 29ms/step\n",
      "Accuracy Score on the test set: 0.84144\n"
     ]
    }
   ],
   "source": [
    "# After adding the bidirectional layer\n",
    "model = tf.keras.Sequential()\n",
    "model.add(tf.keras.layers.Embedding(input_dim=25000, output_dim=32, input_length=X_train_prep.shape[1]))\n",
    "model.add(tf.keras.layers.Conv1D(filters=128, kernel_size=7, activation='relu'))\n",
    "model.add(tf.keras.layers.MaxPooling1D())\n",
    "model.add(layers.Bidirectional(layers.LSTM(64)))    # Bidirectional layer\n",
    "model.add(tf.keras.layers.Dense(10, activation='relu'))\n",
    "model.add(tf.keras.layers.Dense(10, activation='relu'))\n",
    "model.add(tf.keras.layers.Dense(1, activation='sigmoid'))\n",
    "model.compile(optimizer='adam', loss='binary_crossentropy')\n",
    "model.summary()\n",
    "\n",
    "model.fit(X_train_prep, y_train_prep)\n",
    "\n",
    "y_pred = model.predict(X_test_prep)\n",
    "\n",
    "print(f\"Accuracy Score on the test set: {accuracy_score(y_test_prep, np.round(y_pred))}\")"
   ]
  },
  {
   "cell_type": "markdown",
   "metadata": {},
   "source": [
    "# Removing Conv layer - experiment"
   ]
  },
  {
   "cell_type": "code",
   "execution_count": 27,
   "metadata": {},
   "outputs": [
    {
     "name": "stdout",
     "output_type": "stream",
     "text": [
      "Model: \"sequential_24\"\n",
      "_________________________________________________________________\n",
      " Layer (type)                Output Shape              Param #   \n",
      "=================================================================\n",
      " embedding_24 (Embedding)    (None, 200, 32)           800000    \n",
      "                                                                 \n",
      " lstm_22 (LSTM)              (None, 64)                24832     \n",
      "                                                                 \n",
      " dense_49 (Dense)            (None, 10)                650       \n",
      "                                                                 \n",
      " dense_50 (Dense)            (None, 10)                110       \n",
      "                                                                 \n",
      " dense_51 (Dense)            (None, 1)                 11        \n",
      "                                                                 \n",
      "=================================================================\n",
      "Total params: 825,603\n",
      "Trainable params: 825,603\n",
      "Non-trainable params: 0\n",
      "_________________________________________________________________\n",
      "782/782 [==============================] - 79s 99ms/step - loss: 0.5080\n",
      "782/782 [==============================] - 18s 23ms/step\n",
      "Accuracy Score on the test set: 0.77904\n"
     ]
    }
   ],
   "source": [
    "# Removing Convolutional layer\n",
    "model = tf.keras.Sequential()\n",
    "model.add(tf.keras.layers.Embedding(input_dim=25000, output_dim=32, input_length=X_train_prep.shape[1]))\n",
    "# model.add(tf.keras.layers.Conv1D(filters=128, kernel_size=7, activation='relu'))\n",
    "# model.add(tf.keras.layers.MaxPooling1D())\n",
    "# model.add(layers.Bidirectional(layers.LSTM(64)))    # Bidirectional layer\n",
    "model.add(layers.LSTM(64))\n",
    "model.add(tf.keras.layers.Dense(10, activation='relu'))\n",
    "model.add(tf.keras.layers.Dense(10, activation='relu'))\n",
    "model.add(tf.keras.layers.Dense(1, activation='sigmoid'))\n",
    "model.compile(optimizer='adam', loss='binary_crossentropy')\n",
    "model.summary()\n",
    "\n",
    "model.fit(X_train_prep, y_train_prep)\n",
    "\n",
    "y_pred = model.predict(X_test_prep)\n",
    "\n",
    "print(f\"Accuracy Score on the test set: {accuracy_score(y_test_prep, np.round(y_pred))}\")"
   ]
  },
  {
   "cell_type": "code",
   "execution_count": null,
   "metadata": {},
   "outputs": [],
   "source": []
  }
 ],
 "metadata": {
  "kernelspec": {
   "display_name": "Python 3 (ipykernel)",
   "language": "python",
   "name": "python3"
  },
  "language_info": {
   "codemirror_mode": {
    "name": "ipython",
    "version": 3
   },
   "file_extension": ".py",
   "mimetype": "text/x-python",
   "name": "python",
   "nbconvert_exporter": "python",
   "pygments_lexer": "ipython3",
   "version": "3.10.6"
  }
 },
 "nbformat": 4,
 "nbformat_minor": 4
}
